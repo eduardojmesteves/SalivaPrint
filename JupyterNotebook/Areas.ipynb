{
 "nbformat": 4,
 "nbformat_minor": 2,
 "metadata": {
  "language_info": {
   "name": "python",
   "codemirror_mode": {
    "name": "ipython",
    "version": 3
   },
   "version": "3.6.9-final"
  },
  "orig_nbformat": 2,
  "file_extension": ".py",
  "mimetype": "text/x-python",
  "name": "python",
  "npconvert_exporter": "python",
  "pygments_lexer": "ipython3",
  "version": 3,
  "kernelspec": {
   "name": "python36964bit4428bff104524ec58f390f7185e1cd99",
   "display_name": "Python 3.6.9 64-bit"
  }
 },
 "cells": [
  {
   "cell_type": "code",
   "execution_count": 1,
   "metadata": {},
   "outputs": [],
   "source": [
    "import os, csv, re, glob, math, collections, sys, codecs\n",
    "import xml.etree.ElementTree as ET\n",
    "from matplotlib import pylab as plt\n",
    "import matplotlib.pyplot as plot\n",
    "import pandas as pd\n",
    "from io import BytesIO\n",
    "import numpy as np\n",
    "import pandas as pd\n",
    "from scipy import signal\n",
    "from scipy.signal import find_peaks\n",
    "from scipy import stats\n",
    "from colorama import *"
   ]
  },
  {
   "cell_type": "code",
   "execution_count": 2,
   "metadata": {},
   "outputs": [],
   "source": [
    "\n",
    "def sum_fluorescence_per_ind(profile, peak_intervals):\n",
    "\n",
    "    sum1 = 0\n",
    "    sum2 = 0\n",
    "    sum3 = 0\n",
    "    sum4 = 0\n",
    "    sum5 = 0\n",
    "    sum6 = 0\n",
    "\n",
    "    to_consider1 = list(range(int(peak_intervals[0][0]),int(peak_intervals[0][1])))\n",
    "    to_consider2 = list(range(int(peak_intervals[1][0]),int(peak_intervals[1][1])))\n",
    "    to_consider3 = list(range(int(peak_intervals[2][0]),int(peak_intervals[2][1])))\n",
    "    to_consider4 = list(range(int(peak_intervals[3][0]),int(peak_intervals[3][1])))\n",
    "    to_consider5 = list(range(int(peak_intervals[4][0]),int(peak_intervals[4][1])))\n",
    "    to_consider6 = list(range(int(peak_intervals[5][0]),int(peak_intervals[5][1])))\n",
    "\n",
    "    for i in range(0,len(profile)):\n",
    "        if i in to_consider1:\n",
    "            sum1 += profile[i]\n",
    "\n",
    "    for i in range(0,len(profile)):\n",
    "        if i in to_consider2:\n",
    "            sum2 += profile[i]\n",
    "\n",
    "    for i in range(0,len(profile)):\n",
    "        if i in to_consider3:\n",
    "            sum3 += profile[i]\n",
    "\n",
    "    for i in range(0,len(profile)):\n",
    "        if i in to_consider4:\n",
    "            sum4 += profile[i]\n",
    "\n",
    "    for i in range(0,len(profile)):\n",
    "        if i in to_consider5:\n",
    "            sum5 += profile[i]\n",
    "\n",
    "    for i in range(0,len(profile)):\n",
    "        if i in to_consider6:\n",
    "            sum6 += profile[i]\n",
    "\n",
    "    return [sum1, sum2, sum3, sum4, sum5, sum6]"
   ]
  },
  {
   "cell_type": "code",
   "execution_count": 3,
   "metadata": {},
   "outputs": [],
   "source": [
    "def find_nearest(array,value):\n",
    "    idx = np.searchsorted(array, value, side=\"left\")\n",
    "    if idx > 0 and (idx == len(array) or math.fabs(value - array[idx-1]) < math.fabs(value - array[idx])):\n",
    "        return array[idx-1]\n",
    "    else:\n",
    "        return array[idx]"
   ]
  },
  {
   "cell_type": "code",
   "execution_count": 4,
   "metadata": {},
   "outputs": [],
   "source": [
    "def find_half_peak_from_top(peak,profile,index_top):\n",
    "    margin_bottom = 0;\n",
    "    margin_top = len(profile)\n",
    "\n",
    "    if (peak == '1'):\n",
    "        margin_bottom = 2\n",
    "        margin_top = peaks[str(int(peak)+1)][0]\n",
    "    if (peak == '2'):\n",
    "        margin_bottom = peaks[str(int(peak)-1)][1]\n",
    "        margin_top = peaks[str(+int(peak)+1)][0]\n",
    "    if (peak == '3'):\n",
    "        margin_bottom = peaks[str(int(peak)-1)][1]\n",
    "        margin_top = peaks[str(+int(peak)+1)][0]\n",
    "    if (peak == '4'):\n",
    "        margin_bottom = peaks[str(int(peak)-1)][1]\n",
    "        margin_top = peaks[str(+int(peak)+1)][0]\n",
    "    if (peak == '5'):\n",
    "        margin_bottom = peaks[str(int(peak)-1)][1]\n",
    "        margin_top = peaks[str(+int(peak)+1)][0]\n",
    "    if (peak == '6'):\n",
    "        margin_bottom = peaks[str(int(peak)-1)][1]\n",
    "        #margin_top = peaks[str(+int(peak)+1)][0]\n",
    "        margin_top = 340\n",
    "\n",
    "    half_value = profile[index_top]/2\n",
    "\n",
    "    left_half = profile[:index_top]\n",
    "    right_half = profile[index_top:]\n",
    "\n",
    "    closest_right = 0\n",
    "    distance_right = 9999999999\n",
    "\n",
    "    #go_right\n",
    "    for v in range(index_top,len(profile)):\n",
    "        if profile[v] - half_value < distance_right:\n",
    "            distance_right = profile[v] - half_value\n",
    "            closest_right = v\n",
    "        if (profile[v] < half_value) or (v > margin_top):\n",
    "            break;\n",
    "\n",
    "    closest_left = 0\n",
    "    distance_left = 9999999999\n",
    "\n",
    "    # go_left\n",
    "    for v in range(index_top, 0, -1):\n",
    "        if profile[v] - half_value < distance_left:\n",
    "            distance_left = profile[v] - half_value\n",
    "            closest_left = v\n",
    "        if (profile[v] < half_value) or (v < margin_bottom):\n",
    "            break;\n",
    "\n",
    "    return [closest_left,closest_right]"
   ]
  },
  {
   "cell_type": "code",
   "execution_count": 13,
   "metadata": {},
   "outputs": [],
   "source": [
    "# f = pd.read_csv(\"Samples.csv\")\n",
    "df = pd.read_csv(\"Samples.csv\", header=0)\n",
    "df = pd.read_csv(\"Samples.csv\", index_col=0, header=0)\n",
    "\n",
    "# f = open('Samples.csv')\n",
    "\n",
    "\n",
    "# lines = f.readlines()"
   ]
  },
  {
   "cell_type": "code",
   "execution_count": 14,
   "metadata": {},
   "outputs": [
    {
     "data": {
      "text/html": "<div>\n<style scoped>\n    .dataframe tbody tr th:only-of-type {\n        vertical-align: middle;\n    }\n\n    .dataframe tbody tr th {\n        vertical-align: top;\n    }\n\n    .dataframe thead th {\n        text-align: right;\n    }\n</style>\n<table border=\"1\" class=\"dataframe\">\n  <thead>\n    <tr style=\"text-align: right;\">\n      <th></th>\n      <th>9.0</th>\n      <th>9.1</th>\n      <th>9.2</th>\n      <th>9.3</th>\n      <th>9.4</th>\n      <th>9.5</th>\n      <th>9.6</th>\n      <th>9.7</th>\n      <th>9.9</th>\n      <th>10.0</th>\n      <th>...</th>\n      <th>116.8</th>\n      <th>117.2</th>\n      <th>117.7</th>\n      <th>118.1</th>\n      <th>118.6</th>\n      <th>119.0</th>\n      <th>119.5</th>\n      <th>119.9</th>\n      <th>120.3</th>\n      <th>120.8</th>\n    </tr>\n    <tr>\n      <th>Sample</th>\n      <th></th>\n      <th></th>\n      <th></th>\n      <th></th>\n      <th></th>\n      <th></th>\n      <th></th>\n      <th></th>\n      <th></th>\n      <th></th>\n      <th></th>\n      <th></th>\n      <th></th>\n      <th></th>\n      <th></th>\n      <th></th>\n      <th></th>\n      <th></th>\n      <th></th>\n      <th></th>\n      <th></th>\n    </tr>\n  </thead>\n  <tbody>\n    <tr>\n      <th>D1406</th>\n      <td>-62.244672</td>\n      <td>-52.457014</td>\n      <td>-42.210655</td>\n      <td>-32.204871</td>\n      <td>-23.491503</td>\n      <td>-16.696638</td>\n      <td>-12.193077</td>\n      <td>-9.994839</td>\n      <td>-9.813816</td>\n      <td>-11.251397</td>\n      <td>...</td>\n      <td>-0.181758</td>\n      <td>-0.462081</td>\n      <td>-0.843100</td>\n      <td>-1.052588</td>\n      <td>-1.271526</td>\n      <td>-1.538121</td>\n      <td>-1.750944</td>\n      <td>-1.938444</td>\n      <td>-2.147266</td>\n      <td>-2.379568</td>\n    </tr>\n    <tr>\n      <th>D1406</th>\n      <td>-81.605963</td>\n      <td>-73.379503</td>\n      <td>-63.529882</td>\n      <td>-53.410731</td>\n      <td>-43.921040</td>\n      <td>-36.125306</td>\n      <td>-30.061558</td>\n      <td>-25.768962</td>\n      <td>-23.334017</td>\n      <td>-22.874460</td>\n      <td>...</td>\n      <td>-0.506436</td>\n      <td>-0.942482</td>\n      <td>-1.277635</td>\n      <td>-1.309136</td>\n      <td>-1.309286</td>\n      <td>-1.428850</td>\n      <td>-1.641247</td>\n      <td>-1.864567</td>\n      <td>-2.057687</td>\n      <td>-2.290072</td>\n    </tr>\n  </tbody>\n</table>\n<p>2 rows × 403 columns</p>\n</div>",
      "text/plain": "              9.0        9.1        9.2        9.3        9.4        9.5  \\\nSample                                                                     \nD1406  -62.244672 -52.457014 -42.210655 -32.204871 -23.491503 -16.696638   \nD1406  -81.605963 -73.379503 -63.529882 -53.410731 -43.921040 -36.125306   \n\n              9.6        9.7        9.9       10.0  ...     116.8     117.2  \\\nSample                                              ...                       \nD1406  -12.193077  -9.994839  -9.813816 -11.251397  ... -0.181758 -0.462081   \nD1406  -30.061558 -25.768962 -23.334017 -22.874460  ... -0.506436 -0.942482   \n\n           117.7     118.1     118.6     119.0     119.5     119.9     120.3  \\\nSample                                                                         \nD1406  -0.843100 -1.052588 -1.271526 -1.538121 -1.750944 -1.938444 -2.147266   \nD1406  -1.277635 -1.309136 -1.309286 -1.428850 -1.641247 -1.864567 -2.057687   \n\n           120.8  \nSample            \nD1406  -2.379568  \nD1406  -2.290072  \n\n[2 rows x 403 columns]"
     },
     "execution_count": 14,
     "metadata": {},
     "output_type": "execute_result"
    }
   ],
   "source": [
    "df.head(2)"
   ]
  },
  {
   "cell_type": "code",
   "execution_count": null,
   "metadata": {},
   "outputs": [],
   "source": [
    "# d = {}"
   ]
  },
  {
   "cell_type": "code",
   "execution_count": 6,
   "metadata": {},
   "outputs": [],
   "source": [
    "# for line in lines:\n",
    "#     line = line.strip()\n",
    "#     aux = line.split(',')\n",
    "#     k = aux[0]\n",
    "#     val = aux[1:]\n",
    "#     values = list(map(float, val))\n",
    "#     d[k] = values\n",
    "\n",
    "val = df[1:]\n"
   ]
  },
  {
   "cell_type": "code",
   "execution_count": null,
   "metadata": {},
   "outputs": [],
   "source": [
    "values = list(map(float, val))"
   ]
  },
  {
   "cell_type": "code",
   "execution_count": null,
   "metadata": {},
   "outputs": [],
   "source": [
    "peaks = {'1': [48, 57], '2': [112, 129], '3': [136, 166], '4': [178, 201], '5': [241, 251], '6': [263, 278]}"
   ]
  },
  {
   "cell_type": "code",
   "execution_count": 15,
   "metadata": {},
   "outputs": [],
   "source": [
    "for ind in d.keys():\n",
    "    \n",
    "    # plt.hlines(half_value, color=\"C2\")\n",
    "    plot.xlabel('Molecular Weight (kDa)')\n",
    "    plot.ylabel('Fluorescence')\n",
    "    plt.show()\n",
    "    #plt.savefig (\"area\"+ind+\".png\")\n",
    "\n",
    "    # plt.figure() #Individual plots\n",
    "\n",
    "    plt.plot(d[ind]) #Overlayed plots\n",
    "\n",
    "    peak_intervals = []\n",
    "\n",
    "    for peak in peaks.keys():\n",
    "        # Janela inicial\n",
    "        [init,fim] = peaks[peak]\n",
    "        window = d[ind][init-1:fim]\n",
    "        xs = range(init-1,fim)\n",
    "        index_max_window = window.index(max(window))\n",
    "        plt.plot(xs , window, 'r')\n",
    "\n",
    "        # Maximums\n",
    "        index_max = init-1 + index_max_window\n",
    "        plt.plot(index_max, window[index_max_window],'go')\n",
    "\n",
    "        boundaries = find_half_peak_from_top(peak,d[ind],index_max)\n",
    "\n",
    "        plt.plot(boundaries[0], d[ind][boundaries[0]],'b*')\n",
    "        plt.plot(boundaries[1], d[ind][boundaries[1]],'y*')\n",
    "\n",
    "        peak_intervals.append(boundaries)\n",
    "\n",
    "    #print(peak_intervals)\n",
    "    # print(str(sum_fluorescence_per_ind(d[ind],peak_intervals)))\n",
    "    # df = str(sum_fluorescence_per_ind(d[ind],peak_intervals))\n",
    "# df = pd.DataFrame(sum_fluorescence_per_ind(d[ind],peak_intervals))\n",
    "# print(df)\n",
    "# df.to_csv('areas.csv')\n",
    "\n",
    "\n",
    ""
   ]
  },
  {
   "cell_type": "code",
   "execution_count": 8,
   "metadata": {},
   "outputs": [
    {
     "name": "stdout",
     "output_type": "stream",
     "text": "Sample         9.0         9.1         9.2         9.3        9.4  \\\n0   D1406  -62.244672  -52.457014  -42.210655  -32.204871 -23.491503   \n1   D1406  -81.605963  -73.379503  -63.529882  -53.410731 -43.921040   \n2   D1202  -54.015308  -65.326773  -64.685859  -59.112713 -51.891025   \n3   D1202  -36.074493  -51.368412  -55.463124  -53.807609 -49.615077   \n4   D1411  -23.297790  -41.467826  -49.469903  -50.065570 -46.380969   \n5   D1411  -27.324418  -48.814018  -56.036024  -55.643160 -52.225773   \n6   D1388  -29.349970  -58.063246  -67.627430  -66.314007 -62.709630   \n7   D1388  -37.304845  -63.327068  -69.855112  -65.470870 -59.601212   \n8   D1401  -40.970857  -69.265171  -74.903762  -68.177431 -57.451769   \n9   D1401  -46.314839  -72.897337  -76.507520  -70.054642 -60.719255   \n10  D1167  -73.590496  -65.406360  -56.681862  -47.652584 -39.042573   \n11  D1167  -76.963631  -74.597136  -67.809717  -59.496480 -50.597742   \n12  D1183  -37.057198  -71.629847  -83.870012  -82.044341 -75.487330   \n13  D1183  -33.081247  -65.341059  -79.936327  -82.011959 -78.286797   \n14  D1143   64.030962   14.903387  -21.367195  -45.827966 -60.419500   \n15  D1143   60.843186    8.342853  -25.010124  -44.936784 -56.969658   \n16  D1165   68.918498   11.947969  -19.189377  -33.686199 -39.014039   \n17  D1165   89.446087    7.591381  -33.391610  -49.891871 -52.544517   \n18  D1402    1.543409  -49.070069  -66.827255  -68.239311 -62.284505   \n19  D1402  -44.156429  -65.830599  -68.475106  -63.244754 -56.957848   \n20  D1122  -66.899189  -57.956380  -49.865632  -42.760716 -36.760620   \n21  D1122  -69.882155  -60.823732  -52.619868  -45.468589 -39.379809   \n22  D1177  -78.592088  -68.034621  -57.768594  -48.459239 -40.460110   \n23  D1177  -81.066389  -72.052376  -62.265060  -52.827408 -44.515045   \n24   D709  -89.053062  -89.314245  -85.467145  -79.506337 -72.681309   \n25   D709  -73.143012  -77.041882  -77.761747  -75.780382 -71.805095   \n26  D1138 -101.624743 -103.154567 -101.005651  -97.943508 -93.704260   \n27  D1138 -112.338401 -114.021760 -107.965437 -100.954144 -94.979890   \n28  D1179  -92.208646 -108.476510 -106.094613  -94.980392 -83.253072   \n29  D1179 -111.141557 -109.114927  -97.408824  -84.000286 -72.899511   \n30  D1466   13.897055   19.862534   27.272211   34.069385  39.066176   \n31  D1466   17.551048   22.093262   27.407560   32.694274  37.165574   \n32  D1468    9.597105   12.218021   14.888442   17.106925  18.885936   \n33  D1468   10.210088   10.964291   12.614799   14.523548  16.363684   \n34   D612   35.817805   23.764834   16.608865   12.646866  10.825903   \n35   D612   35.567830   27.358699   21.745749   17.036370  13.613302   \n36  D1396   23.242946   18.832955   16.155902   13.015589  10.062717   \n37  D1396    0.941163    0.704344    0.390153    0.051167  -0.126564   \n38  D1261   -4.593666   -4.239124    1.110182    5.719077   9.626089   \n39  D1261  -10.410634   -5.997571   -0.689525    3.752646   8.068268   \n\n          9.5        9.6        9.7        9.9  ...     116.8     117.2  \\\n0  -16.696638 -12.193077  -9.994839  -9.813816  ... -0.181758 -0.462081   \n1  -36.125306 -30.061558 -25.768962 -23.334017  ... -0.506436 -0.942482   \n2  -44.463955 -37.754285 -32.256899 -27.943486  ... -0.257578 -0.382063   \n3  -44.110845 -38.377580 -33.187815 -28.854714  ... -0.260127 -0.332794   \n4  -40.225806 -32.841653 -25.568844 -19.488416  ...  0.006570 -0.027783   \n5  -46.848921 -40.210247 -33.332829 -27.029127  ... -0.088695  0.082628   \n6  -59.552996 -56.592044 -53.537076 -50.288487  ...  0.614788  0.699137   \n7  -54.580977 -50.157681 -46.106911 -42.278400  ... -0.589465 -0.441110   \n8  -46.326761 -35.583498 -26.060236 -18.242922  ... -2.336195 -2.309928   \n9  -50.731809 -40.647226 -31.223479 -23.066775  ... -1.995646 -2.026475   \n10 -31.721345 -26.232289 -22.766123 -21.076646  ... -0.225462 -0.475221   \n11 -42.173479 -34.884598 -29.137993 -25.065785  ...  0.070378 -0.073555   \n12 -67.381873 -59.281330 -52.287450 -46.807433  ... -0.073358 -0.243598   \n13 -72.208613 -65.478128 -59.311532 -54.350588  ... -0.044249 -0.264776   \n14 -67.417181 -68.962492 -67.116328 -63.514611  ... -0.619201 -0.463723   \n15 -64.730808 -69.109687 -70.392210 -69.159204  ... -0.612183 -0.655345   \n16 -41.236305 -42.013056 -41.300465 -39.335822  ... -0.481412 -0.331217   \n17 -49.657192 -46.416534 -43.264383 -39.853763  ... -1.171688 -0.823545   \n18 -56.032684 -50.072378 -43.998905 -37.968953  ... -0.725400 -0.653122   \n19 -50.843170 -44.830381 -38.928386 -33.368278  ... -0.101016 -0.051193   \n20 -31.847161 -27.881861 -24.728603 -22.407828  ... -0.797122 -0.966253   \n21 -34.363317 -30.345212 -27.099656 -24.496454  ... -0.413701 -0.390115   \n22 -33.864925 -28.648615 -24.656611 -21.719657  ...  0.358744  0.375816   \n23 -37.738463 -32.533245 -28.638706 -25.734251  ...  0.259133  0.193340   \n24 -65.839988 -59.584589 -54.153826 -49.376299  ...  0.437971  0.285156   \n25 -66.687137 -61.126892 -55.614924 -50.374402  ...  0.205621  0.221444   \n26 -87.971012 -81.504261 -75.177119 -69.458292  ...  0.638402  0.096138   \n27 -88.949258 -82.420227 -75.941756 -70.016267  ...  1.661894  1.114958   \n28 -73.883045 -65.763840 -58.277259 -51.430385  ... -0.731120 -0.596100   \n29 -63.957842 -56.209129 -49.493429 -43.560178  ... -0.776959 -0.687180   \n30  41.707823  41.863518  39.763380  35.687937  ... -0.916199 -1.182483   \n31  40.217516  41.542799  41.135349  39.148624  ... -0.169996  0.262145   \n32  20.274557  21.098756  21.111575  20.335414  ... -2.045305 -2.263589   \n33  17.839457  18.667972  18.718132  18.099228  ... -1.949034 -2.129311   \n34  10.197421  10.052049   9.932524   9.658552  ...  0.010565 -0.125150   \n35  11.629935  10.601850   9.832468   9.023708  ... -0.098155  0.144428   \n36   7.639099   5.695924   4.212974   3.096781  ... -0.572671 -0.478495   \n37  -0.587213  -0.992134  -0.591266   0.377670  ...  0.095037  0.175013   \n38  13.497745  17.350527  20.994217  24.133439  ... -0.436659 -0.154093   \n39  12.552360  16.899362  20.846315  24.148666  ... -0.482721 -0.437266   \n\n       117.7     118.1     118.6     119.0     119.5     119.9     120.3  \\\n0  -0.843100 -1.052588 -1.271526 -1.538121 -1.750944 -1.938444 -2.147266   \n1  -1.277635 -1.309136 -1.309286 -1.428850 -1.641247 -1.864567 -2.057687   \n2  -0.660176 -0.893811 -0.920388 -0.807778 -0.843335 -1.069970 -1.403615   \n3  -0.525458 -0.643734 -0.673905 -0.669570 -0.645519 -0.679419 -0.880167   \n4  -0.042510 -0.061607 -0.124102 -0.204144 -0.292192 -0.401818 -0.589409   \n5   0.058814 -0.022023 -0.089696 -0.184438 -0.298417 -0.471841 -0.704589   \n6   0.475998 -0.016585 -0.352570 -0.763223 -0.844813 -0.640590 -0.468149   \n7  -0.280373 -0.174485 -0.149721 -0.197568 -0.261552 -0.385665 -0.609053   \n8  -2.268685 -2.146917 -1.963388 -1.794460 -1.669528 -1.558843 -1.453256   \n9  -1.973162 -1.832339 -1.698226 -1.657833 -1.642487 -1.623892 -1.596240   \n10 -0.588899 -0.501903 -0.359006 -0.346685 -0.572128 -1.016418 -1.488059   \n11 -0.186676 -0.331729 -0.513327 -0.657654 -0.796867 -1.073753 -1.474690   \n12 -0.522775 -0.860838 -1.198826 -1.505708 -1.751625 -1.906931 -2.097680   \n13 -0.444895 -0.626378 -0.827037 -1.026717 -1.236271 -1.460712 -1.770044   \n14 -0.416500 -0.584152 -0.902654 -1.154787 -1.241280 -1.299298 -1.467843   \n15 -0.815721 -0.978116 -1.071411 -1.115840 -1.181168 -1.339735 -1.609237   \n16 -0.211620 -0.180858 -0.265307 -0.424616 -0.570542 -0.715060 -0.945225   \n17 -0.561572 -0.357313 -0.200430 -0.222505 -0.481848 -0.808608 -1.070938   \n18 -0.542753 -0.506526 -0.553002 -0.656827 -0.770351 -0.848664 -0.971455   \n19 -0.060387 -0.150688 -0.282394 -0.374984 -0.419198 -0.471772 -0.576175   \n20 -1.078960 -1.069842 -1.058991 -1.039013 -1.066419 -1.234370 -1.381473   \n21 -0.446808 -0.535110 -0.626226 -0.860594 -1.046076 -1.174095 -1.284146   \n22  0.302332  0.218393  0.198459  0.183051  0.112603  0.002099 -0.254992   \n23  0.220987  0.346283  0.404472  0.329851  0.113156 -0.147061 -0.370256   \n24  0.127706  0.151221  0.279558  0.304591  0.170067  0.033719  0.037680   \n25  0.140452  0.122880  0.190311  0.189877  0.073200 -0.083263 -0.151875   \n26 -0.086788 -0.017538  0.033578 -0.050845 -0.184136 -0.296660 -0.464255   \n27  0.608922  0.266198  0.148713  0.154016  0.132912  0.052730 -0.066392   \n28 -0.522884 -0.450172 -0.364753 -0.251496 -0.221679 -0.259911 -0.327827   \n29 -0.594454 -0.480868 -0.396755 -0.373625 -0.358472 -0.284951 -0.143301   \n30 -1.232311 -1.083434 -0.975454 -1.053002 -1.326199 -1.734452 -2.199088   \n31  0.803218  0.970346  0.496647 -0.255385 -0.536106 -0.882295 -1.329661   \n32 -2.442003 -2.618775 -2.709153 -2.698109 -2.775238 -2.912237 -3.177414   \n33 -2.238549 -2.182256 -2.175077 -2.311938 -2.545191 -2.800636 -3.208501   \n34 -0.192412 -0.279543 -0.436449 -0.664919 -0.835385 -0.958954 -1.194597   \n35  0.207877  0.120996 -0.149479 -0.220095 -0.352793 -0.449042 -0.532874   \n36 -0.413014 -0.422997 -0.494617 -0.589010 -0.696136 -0.841071 -0.975210   \n37  0.276614  0.292206  0.217149  0.123032  0.053162  0.031517  0.045804   \n38  0.205336  0.416546  0.297632  0.057417  0.232344  0.682089  1.007464   \n39 -0.531917 -0.581007 -0.510441 -0.329867 -0.150302 -0.063301 -0.104662   \n\n       120.8  \n0  -2.379568  \n1  -2.290072  \n2  -1.761690  \n3  -1.286263  \n4  -0.900928  \n5  -0.964386  \n6  -0.603415  \n7  -0.891249  \n8  -1.396392  \n9  -1.581575  \n10 -1.823416  \n11 -1.810591  \n12 -2.491518  \n13 -2.268987  \n14 -1.809336  \n15 -1.972195  \n16 -1.227621  \n17 -1.329530  \n18 -1.221563  \n19 -0.723939  \n20 -1.498213  \n21 -1.544778  \n22 -0.521381  \n23 -0.575731  \n24 -0.052997  \n25 -0.216137  \n26 -0.640865  \n27 -0.204968  \n28 -0.478329  \n29 -0.034424  \n30 -2.654789  \n31 -1.863815  \n32 -3.588008  \n33 -3.774716  \n34 -1.655627  \n35 -0.758601  \n36 -1.157331  \n37 -0.008030  \n38  1.026983  \n39 -0.064010  \n\n[40 rows x 404 columns]\n"
    },
    {
     "data": {
      "text/plain": "Sample     object\n9.0       float64\n9.1       float64\n9.2       float64\n9.3       float64\n           ...   \n119.0     float64\n119.5     float64\n119.9     float64\n120.3     float64\n120.8     float64\nLength: 404, dtype: object"
     },
     "execution_count": 8,
     "metadata": {},
     "output_type": "execute_result"
    }
   ],
   "source": [
    "    print(df)\n",
    "    df.shape\n",
    "    df.dtypes\n",
    "    "
   ]
  },
  {
   "cell_type": "code",
   "execution_count": null,
   "metadata": {},
   "outputs": [],
   "source": []
  }
 ]
}