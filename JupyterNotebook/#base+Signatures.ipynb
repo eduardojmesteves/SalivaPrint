{
 "nbformat": 4,
 "nbformat_minor": 2,
 "metadata": {
  "language_info": {
   "name": "python",
   "codemirror_mode": {
    "name": "ipython",
    "version": 3
   },
   "version": "3.7.6-final"
  },
  "orig_nbformat": 2,
  "file_extension": ".py",
  "mimetype": "text/x-python",
  "name": "python",
  "npconvert_exporter": "python",
  "pygments_lexer": "ipython3",
  "version": 3,
  "kernelspec": {
   "name": "python37664biteduarvirtualenv87cbf6db55dd406da769ae73a51db598",
   "display_name": "Python 3.7.6 64-bit ('Eduar': virtualenv)"
  }
 },
 "cells": [
  {
   "cell_type": "code",
   "execution_count": null,
   "metadata": {},
   "outputs": [],
   "source": [
    "#  Libraries"
   ]
  },
  {
   "cell_type": "code",
   "execution_count": 3,
   "metadata": {},
   "outputs": [],
   "source": [
    "import os, csv, re, glob, math, collections, sys, codecs\n",
    "import xml.etree.ElementTree as ET\n",
    "import pandas as pd\n",
    "from matplotlib import pylab as plt\n",
    "import matplotlib.pyplot as plot\n",
    "import seaborn as sns\n",
    "import numpy as np\n",
    "from numpy import *\n",
    "from scipy import signal\n",
    "from scipy.signal import find_peaks\n",
    "from scipy import stats\n",
    "from io import BytesIO\n",
    "from colorama import *"
   ]
  },
  {
   "cell_type": "markdown",
   "execution_count": null,
   "metadata": {},
   "outputs": [],
   "source": [
    "#   Profile extraction from XML file - Scri(P)t"
   ]
  },
  {
   "cell_type": "code",
   "execution_count": null,
   "metadata": {},
   "outputs": [],
   "source": [
    "print(Fore.BLUE + '####################################\\n# Welcome to the SalivaPrint tool. #\\n#----------------------------------#\\n#        Type [y] to start.        #\\n####################################')\n",
    "choice=''\n",
    "choice = input()\n",
    "if choice=='y':\n",
    "    print(Fore.RED + '-> Data Extraction from XML file.<-\\n')\n",
    "else:\n",
    "    sys.exit(Fore.RED + 'Stop')\n",
    "#-Next step is add a condition to input the Sample ID and confirm if is the of XML file to continue-#"
   ]
  },
  {
   "cell_type": "markdown",
   "execution_count": null,
   "metadata": {},
   "outputs": [],
   "source": [
    "* Createa csv data from xml source"
   ]
  },
  {
   "cell_type": "code",
   "execution_count": null,
   "metadata": {},
   "outputs": [],
   "source": [
    "full_xml_path = os.path.abspath(os.path.join(\".\", \"test.xml\"))\n",
    "full_csv_path = os.path.abspath(os.path.join(\".\", \"Samples.csv\"))\n",
    "\n",
    "\n",
    "tree = ET.parse(full_xml_path)\n",
    "root = tree.getroot()\n",
    "\n",
    "file_header = ['Sample']\n",
    "file_header_vals = []\n",
    "sample_well_info = []\n"
   ]
  },
  {
   "cell_type": "markdown",
   "execution_count": null,
   "metadata": {},
   "outputs": [],
   "source": [
    "*   Set File Header"
   ]
  },
  {
   "cell_type": "code",
   "execution_count": null,
   "metadata": {},
   "outputs": [],
   "source": [
    "for i in range(466, 869):\n",
    "    file_header.append(str(round((0.00042006 * (i * i) - 0.28216 * i + 49.225), 1)))\n",
    "    file_header_vals.append(str(round((0.00042006 * (i * i) - 0.28216 * i + 49.225), 1)))"
   ]
  },
  {
   "cell_type": "markdown",
   "execution_count": null,
   "metadata": {},
   "outputs": [],
   "source": [
    "*   get all well id's and sample names from file"
   ]
  },
  {
   "cell_type": "code",
   "execution_count": null,
   "metadata": {},
   "outputs": [],
   "source": [
    "for sample in root.findall('Results'):\n",
    "    # write sample name\n",
    "    well_id = sample.find('WellId').text\n",
    "\n",
    "    if well_id != '0':\n",
    "        sample_name = sample.find('SampleName').text\n",
    "        sample_well_info.append({'Sample': sample_name, 'well_id': well_id})"
   ]
  },
  {
   "cell_type": "markdown",
   "execution_count": null,
   "metadata": {},
   "outputs": [],
   "source": [
    "*   create file with headers and data"
   ]
  },
  {
   "cell_type": "code",
   "execution_count": null,
   "metadata": {},
   "outputs": [],
   "source": [
    "with open(full_csv_path, 'w', newline='') as outcsv:\n",
    "    writer = csv.DictWriter(outcsv, fieldnames = file_header)\n",
    "    writer.writeheader()\n",
    "    xmlstr = ET.tostring(root, encoding='utf8', method='xml').decode(\"utf-8\")\n",
    "\n",
    "    for elem in sample_well_info:\n",
    "        \n",
    "        idx = 0\n",
    "        row = {'Sample': elem['Sample']}\n",
    "        regex = '<RawDataPoints><WellId>%s<\\/WellId><Signal>(.*?)<\\/Signal><\\/RawDataPoints>'% elem['well_id']\n",
    "        raw_data_points = re.findall(regex, xmlstr)\n",
    "        \n",
    "        # write data for each column\n",
    "        for count, raw_data_point in enumerate(raw_data_points, start=0):\n",
    "            if 869 >= count >= 467:\n",
    "                row[file_header_vals[idx]] = raw_data_point\n",
    "                idx+=1\n",
    "            \n",
    "            if count > 869:\n",
    "                break\n",
    "        \n",
    "        writer.writerow(row)"
   ]
  },
  {
   "cell_type": "markdown",
   "execution_count": null,
   "metadata": {},
   "outputs": [],
   "source": [
    "*   plot profiles"
   ]
  },
  {
   "cell_type": "code",
   "execution_count": null,
   "metadata": {},
   "outputs": [],
   "source": [
    "df = pd.read_csv('Samples.csv', index_col='Sample')\n",
    "df.head(2)\n",
    "\n",
    "df2 = df.T\n",
    "df2.to_csv('output.csv')\n",
    "df2.head(2)\n",
    "\n",
    "ax = df2.plot()\n",
    "ax.set_xlabel('Molecular Weight (kDa)')\n",
    "ax.set_ylabel('Fluorescence')"
   ]
  },
  {
   "cell_type": "code",
   "execution_count": null,
   "metadata": {},
   "outputs": [],
   "source": [
    "#Do you want to plot\n",
    "print(Fore.GREEN + '#########################################\\n#    Do you want to plot the profile?   #\\n#---------------------------------------#\\n#  Type [y] to plot or [n] to continue. #\\n#########################################')\n",
    "choice = ''\n",
    "choice = input()\n",
    "if choice == 'y':\n",
    "    print(Fore.RED + 'Line Graph Plot.')\n",
    "    plt.show()\n",
    "elif choice == 'n':\n",
    "    print(Fore.BLUE + 'Continue the profile analysis.')\n",
    "else:\n",
    "    sys.exit('Stop')\n"
   ]
  },
  {
   "cell_type": "markdown",
   "metadata": {},
   "source": [
    "#  Signature finding: application of statistical test (i.e. Kruskal-Wallis) to find the Molecular Weight where groups are more distinct"
   ]
  },
  {
   "cell_type": "code",
   "execution_count": 5,
   "metadata": {},
   "outputs": [],
   "source": [
    "samples = pd.read_csv(\"Samples.csv\",header=0) #import XML extractor output\n",
    "metadata = pd.read_csv(\"good_dataset.csv\",header=0) #Get sample metadata"
   ]
  },
  {
   "cell_type": "code",
   "execution_count": null,
   "metadata": {},
   "outputs": [],
   "source": [
    "*   Decision maker - Choose the variables on analysis: Gender; Age group; ... (not finished yet!!!!)"
   ]
  },
  {
   "cell_type": "code",
   "execution_count": null,
   "metadata": {},
   "outputs": [],
   "source": [
    "# print(Fore.RED + '#########################################\\n#    Wich groupdo you want to analyse?   #\\n#---------------------------------------#\\n#  Type [Gender] or [Age Group] to perform kruskal-wallis. Otherwise continue. #\\n#########################################')\n",
    "# choice = ''\n",
    "# choice = input()\n",
    "# if choice == 'Gender':\n",
    "#     print(Fore.RED + 'Gender Analysis')\n",
    "#     plt.show()\n",
    "# elif choice == 'Age Group':\n",
    "#     print(Fore.BLUE + 'Age Group Analysis.')\n",
    "# else:\n",
    "#     sys.exit('Continue')"
   ]
  },
  {
   "cell_type": "code",
   "execution_count": 6,
   "metadata": {},
   "outputs": [
    {
     "output_type": "execute_result",
     "data": {
      "text/plain": "  Gender        9.0       9.1        9.2        9.3       9.4        9.5  \\\n0   Male -66.899189 -57.95638 -49.865632 -42.760716 -36.76062 -31.847161   \n\n         9.6        9.7        9.9  ...     116.8     117.2    117.7  \\\n0 -27.881861 -24.728603 -22.407828  ... -0.797122 -0.966253 -1.07896   \n\n      118.1     118.6     119.0     119.5    119.9     120.3     120.8  \n0 -1.069842 -1.058991 -1.039013 -1.066419 -1.23437 -1.381473 -1.498213  \n\n[1 rows x 404 columns]",
      "text/html": "<div>\n<style scoped>\n    .dataframe tbody tr th:only-of-type {\n        vertical-align: middle;\n    }\n\n    .dataframe tbody tr th {\n        vertical-align: top;\n    }\n\n    .dataframe thead th {\n        text-align: right;\n    }\n</style>\n<table border=\"1\" class=\"dataframe\">\n  <thead>\n    <tr style=\"text-align: right;\">\n      <th></th>\n      <th>Gender</th>\n      <th>9.0</th>\n      <th>9.1</th>\n      <th>9.2</th>\n      <th>9.3</th>\n      <th>9.4</th>\n      <th>9.5</th>\n      <th>9.6</th>\n      <th>9.7</th>\n      <th>9.9</th>\n      <th>...</th>\n      <th>116.8</th>\n      <th>117.2</th>\n      <th>117.7</th>\n      <th>118.1</th>\n      <th>118.6</th>\n      <th>119.0</th>\n      <th>119.5</th>\n      <th>119.9</th>\n      <th>120.3</th>\n      <th>120.8</th>\n    </tr>\n  </thead>\n  <tbody>\n    <tr>\n      <td>0</td>\n      <td>Male</td>\n      <td>-66.899189</td>\n      <td>-57.95638</td>\n      <td>-49.865632</td>\n      <td>-42.760716</td>\n      <td>-36.76062</td>\n      <td>-31.847161</td>\n      <td>-27.881861</td>\n      <td>-24.728603</td>\n      <td>-22.407828</td>\n      <td>...</td>\n      <td>-0.797122</td>\n      <td>-0.966253</td>\n      <td>-1.07896</td>\n      <td>-1.069842</td>\n      <td>-1.058991</td>\n      <td>-1.039013</td>\n      <td>-1.066419</td>\n      <td>-1.23437</td>\n      <td>-1.381473</td>\n      <td>-1.498213</td>\n    </tr>\n  </tbody>\n</table>\n<p>1 rows × 404 columns</p>\n</div>"
     },
     "metadata": {},
     "execution_count": 6
    }
   ],
   "source": [
    "stat = metadata[['Sample','Gender']].merge(samples, how ='inner', on='Sample') #Merging Metadata with Prints\n",
    "stat1 = stat.drop(columns='Sample')\n",
    "stat1.to_csv('kruskal.csv')\n",
    "stat1.head(1)"
   ]
  },
  {
   "cell_type": "markdown",
   "metadata": {},
   "source": [
    "* Levene test"
   ],
   "execution_count": null,
   "outputs": []
  },
  {
   "cell_type": "code",
   "execution_count": 7,
   "metadata": {},
   "outputs": [
    {
     "output_type": "execute_result",
     "data": {
      "text/plain": "    Gender         9.0         9.1         9.2         9.3        9.4  \\\n0     Male  -66.899189  -57.956380  -49.865632  -42.760716 -36.760620   \n1     Male  -69.882155  -60.823732  -52.619868  -45.468589 -39.379809   \n2   Female -101.624743 -103.154567 -101.005651  -97.943508 -93.704260   \n3   Female -112.338401 -114.021760 -107.965437 -100.954144 -94.979890   \n4   Female   64.030962   14.903387  -21.367195  -45.827966 -60.419500   \n5   Female   60.843186    8.342853  -25.010124  -44.936784 -56.969658   \n6   Female   68.918498   11.947969  -19.189377  -33.686199 -39.014039   \n16    Male  -54.015308  -65.326773  -64.685859  -59.112713 -51.891025   \n17    Male  -36.074493  -51.368412  -55.463124  -53.807609 -49.615077   \n22    Male   23.242946   18.832955   16.155902   13.015589  10.062717   \n\n          9.5        9.6        9.7        9.9  ...     116.8     117.2  \\\n0  -31.847161 -27.881861 -24.728603 -22.407828  ... -0.797122 -0.966253   \n1  -34.363317 -30.345212 -27.099656 -24.496454  ... -0.413701 -0.390115   \n2  -87.971012 -81.504261 -75.177119 -69.458292  ...  0.638402  0.096138   \n3  -88.949258 -82.420227 -75.941756 -70.016267  ...  1.661894  1.114958   \n4  -67.417181 -68.962492 -67.116328 -63.514611  ... -0.619201 -0.463723   \n5  -64.730808 -69.109687 -70.392210 -69.159204  ... -0.612183 -0.655345   \n6  -41.236305 -42.013056 -41.300465 -39.335822  ... -0.481412 -0.331217   \n16 -44.463955 -37.754285 -32.256899 -27.943486  ... -0.257578 -0.382063   \n17 -44.110845 -38.377580 -33.187815 -28.854714  ... -0.260127 -0.332794   \n22   7.639099   5.695924   4.212974   3.096781  ... -0.572671 -0.478495   \n\n       117.7     118.1     118.6     119.0     119.5     119.9     120.3  \\\n0  -1.078960 -1.069842 -1.058991 -1.039013 -1.066419 -1.234370 -1.381473   \n1  -0.446808 -0.535110 -0.626226 -0.860594 -1.046076 -1.174095 -1.284146   \n2  -0.086788 -0.017538  0.033578 -0.050845 -0.184136 -0.296660 -0.464255   \n3   0.608922  0.266198  0.148713  0.154016  0.132912  0.052730 -0.066392   \n4  -0.416500 -0.584152 -0.902654 -1.154787 -1.241280 -1.299298 -1.467843   \n5  -0.815721 -0.978116 -1.071411 -1.115840 -1.181168 -1.339735 -1.609237   \n6  -0.211620 -0.180858 -0.265307 -0.424616 -0.570542 -0.715060 -0.945225   \n16 -0.660176 -0.893811 -0.920388 -0.807778 -0.843335 -1.069970 -1.403615   \n17 -0.525458 -0.643734 -0.673905 -0.669570 -0.645519 -0.679419 -0.880167   \n22 -0.413014 -0.422997 -0.494617 -0.589010 -0.696136 -0.841071 -0.975210   \n\n       120.8  \n0  -1.498213  \n1  -1.544778  \n2  -0.640865  \n3  -0.204968  \n4  -1.809336  \n5  -1.972195  \n6  -1.227621  \n16 -1.761690  \n17 -1.286263  \n22 -1.157331  \n\n[10 rows x 404 columns]",
      "text/html": "<div>\n<style scoped>\n    .dataframe tbody tr th:only-of-type {\n        vertical-align: middle;\n    }\n\n    .dataframe tbody tr th {\n        vertical-align: top;\n    }\n\n    .dataframe thead th {\n        text-align: right;\n    }\n</style>\n<table border=\"1\" class=\"dataframe\">\n  <thead>\n    <tr style=\"text-align: right;\">\n      <th></th>\n      <th>Gender</th>\n      <th>9.0</th>\n      <th>9.1</th>\n      <th>9.2</th>\n      <th>9.3</th>\n      <th>9.4</th>\n      <th>9.5</th>\n      <th>9.6</th>\n      <th>9.7</th>\n      <th>9.9</th>\n      <th>...</th>\n      <th>116.8</th>\n      <th>117.2</th>\n      <th>117.7</th>\n      <th>118.1</th>\n      <th>118.6</th>\n      <th>119.0</th>\n      <th>119.5</th>\n      <th>119.9</th>\n      <th>120.3</th>\n      <th>120.8</th>\n    </tr>\n  </thead>\n  <tbody>\n    <tr>\n      <td>0</td>\n      <td>Male</td>\n      <td>-66.899189</td>\n      <td>-57.956380</td>\n      <td>-49.865632</td>\n      <td>-42.760716</td>\n      <td>-36.760620</td>\n      <td>-31.847161</td>\n      <td>-27.881861</td>\n      <td>-24.728603</td>\n      <td>-22.407828</td>\n      <td>...</td>\n      <td>-0.797122</td>\n      <td>-0.966253</td>\n      <td>-1.078960</td>\n      <td>-1.069842</td>\n      <td>-1.058991</td>\n      <td>-1.039013</td>\n      <td>-1.066419</td>\n      <td>-1.234370</td>\n      <td>-1.381473</td>\n      <td>-1.498213</td>\n    </tr>\n    <tr>\n      <td>1</td>\n      <td>Male</td>\n      <td>-69.882155</td>\n      <td>-60.823732</td>\n      <td>-52.619868</td>\n      <td>-45.468589</td>\n      <td>-39.379809</td>\n      <td>-34.363317</td>\n      <td>-30.345212</td>\n      <td>-27.099656</td>\n      <td>-24.496454</td>\n      <td>...</td>\n      <td>-0.413701</td>\n      <td>-0.390115</td>\n      <td>-0.446808</td>\n      <td>-0.535110</td>\n      <td>-0.626226</td>\n      <td>-0.860594</td>\n      <td>-1.046076</td>\n      <td>-1.174095</td>\n      <td>-1.284146</td>\n      <td>-1.544778</td>\n    </tr>\n    <tr>\n      <td>2</td>\n      <td>Female</td>\n      <td>-101.624743</td>\n      <td>-103.154567</td>\n      <td>-101.005651</td>\n      <td>-97.943508</td>\n      <td>-93.704260</td>\n      <td>-87.971012</td>\n      <td>-81.504261</td>\n      <td>-75.177119</td>\n      <td>-69.458292</td>\n      <td>...</td>\n      <td>0.638402</td>\n      <td>0.096138</td>\n      <td>-0.086788</td>\n      <td>-0.017538</td>\n      <td>0.033578</td>\n      <td>-0.050845</td>\n      <td>-0.184136</td>\n      <td>-0.296660</td>\n      <td>-0.464255</td>\n      <td>-0.640865</td>\n    </tr>\n    <tr>\n      <td>3</td>\n      <td>Female</td>\n      <td>-112.338401</td>\n      <td>-114.021760</td>\n      <td>-107.965437</td>\n      <td>-100.954144</td>\n      <td>-94.979890</td>\n      <td>-88.949258</td>\n      <td>-82.420227</td>\n      <td>-75.941756</td>\n      <td>-70.016267</td>\n      <td>...</td>\n      <td>1.661894</td>\n      <td>1.114958</td>\n      <td>0.608922</td>\n      <td>0.266198</td>\n      <td>0.148713</td>\n      <td>0.154016</td>\n      <td>0.132912</td>\n      <td>0.052730</td>\n      <td>-0.066392</td>\n      <td>-0.204968</td>\n    </tr>\n    <tr>\n      <td>4</td>\n      <td>Female</td>\n      <td>64.030962</td>\n      <td>14.903387</td>\n      <td>-21.367195</td>\n      <td>-45.827966</td>\n      <td>-60.419500</td>\n      <td>-67.417181</td>\n      <td>-68.962492</td>\n      <td>-67.116328</td>\n      <td>-63.514611</td>\n      <td>...</td>\n      <td>-0.619201</td>\n      <td>-0.463723</td>\n      <td>-0.416500</td>\n      <td>-0.584152</td>\n      <td>-0.902654</td>\n      <td>-1.154787</td>\n      <td>-1.241280</td>\n      <td>-1.299298</td>\n      <td>-1.467843</td>\n      <td>-1.809336</td>\n    </tr>\n    <tr>\n      <td>5</td>\n      <td>Female</td>\n      <td>60.843186</td>\n      <td>8.342853</td>\n      <td>-25.010124</td>\n      <td>-44.936784</td>\n      <td>-56.969658</td>\n      <td>-64.730808</td>\n      <td>-69.109687</td>\n      <td>-70.392210</td>\n      <td>-69.159204</td>\n      <td>...</td>\n      <td>-0.612183</td>\n      <td>-0.655345</td>\n      <td>-0.815721</td>\n      <td>-0.978116</td>\n      <td>-1.071411</td>\n      <td>-1.115840</td>\n      <td>-1.181168</td>\n      <td>-1.339735</td>\n      <td>-1.609237</td>\n      <td>-1.972195</td>\n    </tr>\n    <tr>\n      <td>6</td>\n      <td>Female</td>\n      <td>68.918498</td>\n      <td>11.947969</td>\n      <td>-19.189377</td>\n      <td>-33.686199</td>\n      <td>-39.014039</td>\n      <td>-41.236305</td>\n      <td>-42.013056</td>\n      <td>-41.300465</td>\n      <td>-39.335822</td>\n      <td>...</td>\n      <td>-0.481412</td>\n      <td>-0.331217</td>\n      <td>-0.211620</td>\n      <td>-0.180858</td>\n      <td>-0.265307</td>\n      <td>-0.424616</td>\n      <td>-0.570542</td>\n      <td>-0.715060</td>\n      <td>-0.945225</td>\n      <td>-1.227621</td>\n    </tr>\n    <tr>\n      <td>16</td>\n      <td>Male</td>\n      <td>-54.015308</td>\n      <td>-65.326773</td>\n      <td>-64.685859</td>\n      <td>-59.112713</td>\n      <td>-51.891025</td>\n      <td>-44.463955</td>\n      <td>-37.754285</td>\n      <td>-32.256899</td>\n      <td>-27.943486</td>\n      <td>...</td>\n      <td>-0.257578</td>\n      <td>-0.382063</td>\n      <td>-0.660176</td>\n      <td>-0.893811</td>\n      <td>-0.920388</td>\n      <td>-0.807778</td>\n      <td>-0.843335</td>\n      <td>-1.069970</td>\n      <td>-1.403615</td>\n      <td>-1.761690</td>\n    </tr>\n    <tr>\n      <td>17</td>\n      <td>Male</td>\n      <td>-36.074493</td>\n      <td>-51.368412</td>\n      <td>-55.463124</td>\n      <td>-53.807609</td>\n      <td>-49.615077</td>\n      <td>-44.110845</td>\n      <td>-38.377580</td>\n      <td>-33.187815</td>\n      <td>-28.854714</td>\n      <td>...</td>\n      <td>-0.260127</td>\n      <td>-0.332794</td>\n      <td>-0.525458</td>\n      <td>-0.643734</td>\n      <td>-0.673905</td>\n      <td>-0.669570</td>\n      <td>-0.645519</td>\n      <td>-0.679419</td>\n      <td>-0.880167</td>\n      <td>-1.286263</td>\n    </tr>\n    <tr>\n      <td>22</td>\n      <td>Male</td>\n      <td>23.242946</td>\n      <td>18.832955</td>\n      <td>16.155902</td>\n      <td>13.015589</td>\n      <td>10.062717</td>\n      <td>7.639099</td>\n      <td>5.695924</td>\n      <td>4.212974</td>\n      <td>3.096781</td>\n      <td>...</td>\n      <td>-0.572671</td>\n      <td>-0.478495</td>\n      <td>-0.413014</td>\n      <td>-0.422997</td>\n      <td>-0.494617</td>\n      <td>-0.589010</td>\n      <td>-0.696136</td>\n      <td>-0.841071</td>\n      <td>-0.975210</td>\n      <td>-1.157331</td>\n    </tr>\n  </tbody>\n</table>\n<p>10 rows × 404 columns</p>\n</div>"
     },
     "metadata": {},
     "execution_count": 7
    }
   ],
   "source": [
    "grouped = stat1.groupby('Gender')\n",
    "grouped.head()"
   ]
  },
  {
   "cell_type": "code",
   "execution_count": 8,
   "metadata": {},
   "outputs": [],
   "source": [
    "from scipy import stats\n",
    "grouped = stat1.groupby('Gender')\n",
    "for name, group in grouped:\n",
    "    g1 = stat1[(stat1['Gender'] == 'Female')]\n",
    "    g2 = stat1[(stat1['Gender'] == 'Male')]\n",
    "    # print(name)\n",
    "    # print(group)\n",
    "mw = list(group.columns)\n",
    "mw.remove('Gender') #get the mw to perform loop"
   ]
  },
  {
   "cell_type": "code",
   "execution_count": 1,
   "metadata": {
    "tags": [
     "outputPrepend",
     "outputPrepend"
    ]
   },
   "outputs": [
    {
     "output_type": "error",
     "ename": "NameError",
     "evalue": "name 'mw' is not defined",
     "traceback": [
      "\u001b[1;31m---------------------------------------------------------------------------\u001b[0m",
      "\u001b[1;31mNameError\u001b[0m                                 Traceback (most recent call last)",
      "\u001b[1;32m<ipython-input-1-115006fce6ee>\u001b[0m in \u001b[0;36m<module>\u001b[1;34m\u001b[0m\n\u001b[0;32m      1\u001b[0m \u001b[0mL\u001b[0m \u001b[1;33m=\u001b[0m \u001b[1;33m[\u001b[0m\u001b[1;33m]\u001b[0m\u001b[1;33m\u001b[0m\u001b[1;33m\u001b[0m\u001b[0m\n\u001b[1;32m----> 2\u001b[1;33m \u001b[1;32mfor\u001b[0m \u001b[0me\u001b[0m \u001b[1;32min\u001b[0m \u001b[0mmw\u001b[0m\u001b[1;33m:\u001b[0m\u001b[1;33m\u001b[0m\u001b[1;33m\u001b[0m\u001b[0m\n\u001b[0m\u001b[0;32m      3\u001b[0m     \u001b[0mlevene\u001b[0m \u001b[1;33m=\u001b[0m \u001b[0mstats\u001b[0m\u001b[1;33m.\u001b[0m\u001b[0mlevene\u001b[0m\u001b[1;33m(\u001b[0m\u001b[0mg1\u001b[0m\u001b[1;33m[\u001b[0m\u001b[0me\u001b[0m\u001b[1;33m]\u001b[0m\u001b[1;33m,\u001b[0m \u001b[0mg2\u001b[0m\u001b[1;33m[\u001b[0m\u001b[0me\u001b[0m\u001b[1;33m]\u001b[0m\u001b[1;33m)\u001b[0m\u001b[1;33m\u001b[0m\u001b[1;33m\u001b[0m\u001b[0m\n\u001b[0;32m      4\u001b[0m     \u001b[1;31m# print(levene)\u001b[0m\u001b[1;33m\u001b[0m\u001b[1;33m\u001b[0m\u001b[1;33m\u001b[0m\u001b[0m\n\u001b[0;32m      5\u001b[0m     \u001b[0mL\u001b[0m\u001b[1;33m.\u001b[0m\u001b[0mappend\u001b[0m\u001b[1;33m(\u001b[0m\u001b[0mlevene\u001b[0m\u001b[1;33m)\u001b[0m\u001b[1;33m\u001b[0m\u001b[1;33m\u001b[0m\u001b[0m\n",
      "\u001b[1;31mNameError\u001b[0m: name 'mw' is not defined"
     ]
    }
   ],
   "source": [
    "L = []\n",
    "for e in mw:\n",
    "    levene = stats.levene(g1[e], g2[e])\n",
    "    # print(levene)\n",
    "    L.append(levene)\n",
    "df = pd.DataFrame(L)\n",
    "df['MW'] = mw\n",
    "df.head()"
   ]
  },
  {
   "cell_type": "code",
   "execution_count": null,
   "metadata": {},
   "outputs": [],
   "source": [
    "#box plots to levene test"
   ]
  },
  {
   "cell_type": "code",
   "execution_count": null,
   "metadata": {},
   "outputs": [],
   "source": [
    "plot.figure(1)\n",
    "plot.subplot(2, 1, 1)\n",
    "for name, value in g1.items():\n",
    "    plot.plot(value, 'b')\n",
    "for name, value in g2.items():\n",
    "    plot.plot(value, 'r')\n",
    "plt.show()"
   ]
  },
  {
   "cell_type": "code",
   "execution_count": 12,
   "metadata": {},
   "outputs": [
    {
     "output_type": "stream",
     "name": "stdout",
     "text": "statistic    pvalue     MW\n0     0.024390  0.875896    9.0\n1     0.878049  0.348737    9.1\n2     1.264390  0.260822    9.2\n3     1.195122  0.274299    9.3\n4     1.640000  0.200325    9.4\n..         ...       ...    ...\n398   0.711220  0.399039  119.0\n399   0.609756  0.434880  119.5\n400   0.937561  0.332906  119.9\n401   1.640000  0.200325  120.3\n402   1.195122  0.274299  120.8\n\n[403 rows x 3 columns]\n"
    }
   ],
   "source": [
    "#kruskal\n",
    "K = []\n",
    "for e in mw:\n",
    "    kruskal = stats.kruskal(g1[e], g2[e])\n",
    "    # print(levene)\n",
    "    K.append(kruskal)\n",
    "df = pd.DataFrame(K)\n",
    "df['MW'] = mw\n",
    "print(df)"
   ]
  },
  {
   "cell_type": "code",
   "execution_count": 13,
   "metadata": {},
   "outputs": [
    {
     "output_type": "error",
     "ename": "ModuleNotFoundError",
     "evalue": "No module named 'pingouin'",
     "traceback": [
      "\u001b[1;31m---------------------------------------------------------------------------\u001b[0m",
      "\u001b[1;31mModuleNotFoundError\u001b[0m                       Traceback (most recent call last)",
      "\u001b[1;32m<ipython-input-13-557b4b9e47a5>\u001b[0m in \u001b[0;36m<module>\u001b[1;34m\u001b[0m\n\u001b[1;32m----> 1\u001b[1;33m \u001b[1;32mfrom\u001b[0m \u001b[0mpingouin\u001b[0m \u001b[1;32mimport\u001b[0m \u001b[0mkruskal\u001b[0m\u001b[1;33m,\u001b[0m \u001b[0mread_dataset\u001b[0m\u001b[1;33m\u001b[0m\u001b[1;33m\u001b[0m\u001b[0m\n\u001b[0m\u001b[0;32m      2\u001b[0m \u001b[0mdf\u001b[0m \u001b[1;33m=\u001b[0m \u001b[0mread_dataset\u001b[0m\u001b[1;33m(\u001b[0m\u001b[1;34m'anova'\u001b[0m\u001b[1;33m)\u001b[0m\u001b[1;33m\u001b[0m\u001b[1;33m\u001b[0m\u001b[0m\n\u001b[0;32m      3\u001b[0m \u001b[0mdf\u001b[0m\u001b[1;33m.\u001b[0m\u001b[0mhead\u001b[0m\u001b[1;33m(\u001b[0m\u001b[1;36m1\u001b[0m\u001b[1;33m)\u001b[0m\u001b[1;33m\u001b[0m\u001b[1;33m\u001b[0m\u001b[0m\n\u001b[0;32m      4\u001b[0m \u001b[0mkruskal\u001b[0m\u001b[1;33m(\u001b[0m\u001b[0mdata\u001b[0m\u001b[1;33m=\u001b[0m\u001b[0mdf\u001b[0m\u001b[1;33m,\u001b[0m \u001b[0mdv\u001b[0m\u001b[1;33m=\u001b[0m\u001b[1;34m'Pain threshold'\u001b[0m\u001b[1;33m,\u001b[0m \u001b[0mbetween\u001b[0m\u001b[1;33m=\u001b[0m\u001b[1;34m'Hair color'\u001b[0m\u001b[1;33m)\u001b[0m\u001b[1;33m\u001b[0m\u001b[1;33m\u001b[0m\u001b[0m\n",
      "\u001b[1;31mModuleNotFoundError\u001b[0m: No module named 'pingouin'"
     ]
    }
   ],
   "source": [
    "from pingouin import kruskal, read_dataset\n",
    "df = read_dataset('anova')\n",
    "df.head(1)\n",
    "kruskal(data=df, dv='Pain threshold', between='Hair color')"
   ]
  },
  {
   "cell_type": "code",
   "execution_count": 14,
   "metadata": {},
   "outputs": [
    {
     "output_type": "error",
     "ename": "ModuleNotFoundError",
     "evalue": "No module named 'unittest'",
     "traceback": [
      "\u001b[1;31m---------------------------------------------------------------------------\u001b[0m",
      "\u001b[1;31mModuleNotFoundError\u001b[0m                       Traceback (most recent call last)",
      "\u001b[1;32m<ipython-input-14-09855caae567>\u001b[0m in \u001b[0;36m<module>\u001b[1;34m\u001b[0m\n\u001b[0;32m      1\u001b[0m \u001b[1;31m# kruskall wallis\u001b[0m\u001b[1;33m\u001b[0m\u001b[1;33m\u001b[0m\u001b[1;33m\u001b[0m\u001b[0m\n\u001b[1;32m----> 2\u001b[1;33m \u001b[1;32mfrom\u001b[0m \u001b[0mscipy\u001b[0m \u001b[1;32mimport\u001b[0m \u001b[0mstats\u001b[0m\u001b[1;33m\u001b[0m\u001b[1;33m\u001b[0m\u001b[0m\n\u001b[0m\u001b[0;32m      3\u001b[0m \u001b[0mkruskal\u001b[0m \u001b[1;33m=\u001b[0m \u001b[1;33m[\u001b[0m\u001b[1;33m]\u001b[0m\u001b[1;33m\u001b[0m\u001b[1;33m\u001b[0m\u001b[0m\n\u001b[0;32m      4\u001b[0m \u001b[0mpvalue\u001b[0m \u001b[1;33m=\u001b[0m \u001b[1;33m[\u001b[0m\u001b[1;33m]\u001b[0m\u001b[1;33m\u001b[0m\u001b[1;33m\u001b[0m\u001b[0m\n\u001b[0;32m      5\u001b[0m \u001b[1;32mfor\u001b[0m \u001b[0me\u001b[0m \u001b[1;32min\u001b[0m \u001b[0mmw\u001b[0m\u001b[1;33m:\u001b[0m\u001b[1;33m\u001b[0m\u001b[1;33m\u001b[0m\u001b[0m\n",
      "\u001b[1;32m~\\AppData\\Roaming\\Python\\Python37\\site-packages\\scipy\\__init__.py\u001b[0m in \u001b[0;36m<module>\u001b[1;34m\u001b[0m\n\u001b[0;32m     60\u001b[0m \u001b[0m__all__\u001b[0m \u001b[1;33m=\u001b[0m \u001b[1;33m[\u001b[0m\u001b[1;34m'test'\u001b[0m\u001b[1;33m]\u001b[0m\u001b[1;33m\u001b[0m\u001b[1;33m\u001b[0m\u001b[0m\n\u001b[0;32m     61\u001b[0m \u001b[1;33m\u001b[0m\u001b[0m\n\u001b[1;32m---> 62\u001b[1;33m \u001b[1;32mfrom\u001b[0m \u001b[0mnumpy\u001b[0m \u001b[1;32mimport\u001b[0m \u001b[0mshow_config\u001b[0m \u001b[1;32mas\u001b[0m \u001b[0mshow_numpy_config\u001b[0m\u001b[1;33m\u001b[0m\u001b[1;33m\u001b[0m\u001b[0m\n\u001b[0m\u001b[0;32m     63\u001b[0m \u001b[1;32mif\u001b[0m \u001b[0mshow_numpy_config\u001b[0m \u001b[1;32mis\u001b[0m \u001b[1;32mNone\u001b[0m\u001b[1;33m:\u001b[0m\u001b[1;33m\u001b[0m\u001b[1;33m\u001b[0m\u001b[0m\n\u001b[0;32m     64\u001b[0m     raise ImportError(\n",
      "\u001b[1;32m~\\AppData\\Local\\Programs\\Python\\Python37\\lib\\site-packages\\numpy\\__init__.py\u001b[0m in \u001b[0;36m<module>\u001b[1;34m\u001b[0m\n\u001b[0;32m    185\u001b[0m     \u001b[1;31m# We don't actually use this ourselves anymore, but I'm not 100% sure that\u001b[0m\u001b[1;33m\u001b[0m\u001b[1;33m\u001b[0m\u001b[1;33m\u001b[0m\u001b[0m\n\u001b[0;32m    186\u001b[0m     \u001b[1;31m# no-one else in the world is using it (though I hope not)\u001b[0m\u001b[1;33m\u001b[0m\u001b[1;33m\u001b[0m\u001b[1;33m\u001b[0m\u001b[0m\n\u001b[1;32m--> 187\u001b[1;33m     \u001b[1;32mfrom\u001b[0m \u001b[1;33m.\u001b[0m\u001b[0mtesting\u001b[0m \u001b[1;32mimport\u001b[0m \u001b[0mTester\u001b[0m\u001b[1;33m\u001b[0m\u001b[1;33m\u001b[0m\u001b[0m\n\u001b[0m\u001b[0;32m    188\u001b[0m \u001b[1;33m\u001b[0m\u001b[0m\n\u001b[0;32m    189\u001b[0m     \u001b[1;31m# Pytest testing\u001b[0m\u001b[1;33m\u001b[0m\u001b[1;33m\u001b[0m\u001b[1;33m\u001b[0m\u001b[0m\n",
      "\u001b[1;32m~\\AppData\\Local\\Programs\\Python\\Python37\\lib\\site-packages\\numpy\\testing\\__init__.py\u001b[0m in \u001b[0;36m<module>\u001b[1;34m\u001b[0m\n\u001b[0;32m      8\u001b[0m \u001b[1;32mfrom\u001b[0m \u001b[0m__future__\u001b[0m \u001b[1;32mimport\u001b[0m \u001b[0mdivision\u001b[0m\u001b[1;33m,\u001b[0m \u001b[0mabsolute_import\u001b[0m\u001b[1;33m,\u001b[0m \u001b[0mprint_function\u001b[0m\u001b[1;33m\u001b[0m\u001b[1;33m\u001b[0m\u001b[0m\n\u001b[0;32m      9\u001b[0m \u001b[1;33m\u001b[0m\u001b[0m\n\u001b[1;32m---> 10\u001b[1;33m \u001b[1;32mfrom\u001b[0m \u001b[0munittest\u001b[0m \u001b[1;32mimport\u001b[0m \u001b[0mTestCase\u001b[0m\u001b[1;33m\u001b[0m\u001b[1;33m\u001b[0m\u001b[0m\n\u001b[0m\u001b[0;32m     11\u001b[0m \u001b[1;33m\u001b[0m\u001b[0m\n\u001b[0;32m     12\u001b[0m \u001b[1;32mfrom\u001b[0m \u001b[1;33m.\u001b[0m\u001b[0m_private\u001b[0m\u001b[1;33m.\u001b[0m\u001b[0mutils\u001b[0m \u001b[1;32mimport\u001b[0m \u001b[1;33m*\u001b[0m\u001b[1;33m\u001b[0m\u001b[1;33m\u001b[0m\u001b[0m\n",
      "\u001b[1;31mModuleNotFoundError\u001b[0m: No module named 'unittest'"
     ]
    }
   ],
   "source": [
    "# kruskall wallis\n",
    "from scipy import stats\n",
    "kruskal = []\n",
    "pvalue = []\n",
    "for e in mw:\n",
    "    kruskal, pvalue = stats.kruskal(g1,g2)\n",
    "    kruskal_values.append(kruskal)\n",
    "    p_value.append(pvalue)"
   ]
  },
  {
   "cell_type": "code",
   "execution_count": null,
   "metadata": {},
   "outputs": [],
   "source": [
    "print(kruskal)"
   ]
  },
  {
   "cell_type": "markdown",
   "execution_count": null,
   "metadata": {},
   "outputs": [],
   "source": [
    "*   plot the means"
   ]
  },
  {
   "cell_type": "code",
   "execution_count": null,
   "metadata": {},
   "outputs": [],
   "source": [
    "groupby = stat.groupby('Gender').mean().T\n",
    "groupby.head()"
   ]
  },
  {
   "cell_type": "code",
   "execution_count": null,
   "metadata": {},
   "outputs": [],
   "source": [
    "kkw = groupby.plot()\n",
    "kkw.set_xlabel('Molecular Weight (kDa)')\n",
    "kkw.set_ylabel('Fluorescence')"
   ]
  },
  {
   "cell_type": "code",
   "execution_count": null,
   "metadata": {},
   "outputs": [],
   "source": [
    "groupby = stat.groupby('Gender').describe()\n",
    "groupby.head()"
   ]
  },
  {
   "cell_type": "code",
   "execution_count": null,
   "metadata": {},
   "outputs": [],
   "source": [
    "female = stat[stat['Gender'] == 'Female'] #Gender Groups\n",
    "g1 = female.drop(columns='Gender').T\n",
    "male = stat[stat['Gender'] == 'Male']\n",
    "g2 = male.drop(columns='Gender').T\n",
    "g1.head(1)"
   ]
  },
  {
   "cell_type": "code",
   "execution_count": null,
   "metadata": {},
   "outputs": [],
   "source": [
    "values = samples.loc[:,'9.0':'120.8'] #Normalise values \n",
    "soma_total = np.sum(values)\n",
    "normalization = np.true_divide(values, 1000 / soma_total)\n",
    "normalization.head(1)"
   ]
  },
  {
   "cell_type": "code",
   "execution_count": null,
   "metadata": {},
   "outputs": [],
   "source": [
    "def Gender(stat):\n",
    "    if 'Gender' == 'Female':\n",
    "        plot.plot(values, 'r')\n",
    "    elif 'Gender' == 'Male':\n",
    "        plot.plot(values, 'b')"
   ]
  },
  {
   "cell_type": "code",
   "execution_count": null,
   "metadata": {},
   "outputs": [],
   "source": [
    "plot.figure(1)\n",
    "plot.subplot(2, 1, 1)\n",
    "# g1.plot()\n",
    "plot.plot(g1, 'r')\n",
    "plot.plot(g2, 'b')"
   ]
  },
  {
   "cell_type": "markdown",
   "metadata": {},
   "source": [
    "### Statistical analysis"
   ],
   "execution_count": null,
   "outputs": []
  },
  {
   "cell_type": "markdown",
   "metadata": {},
   "source": [
    "* data import"
   ],
   "execution_count": null,
   "outputs": []
  },
  {
   "cell_type": "code",
   "execution_count": null,
   "metadata": {},
   "outputs": [],
   "source": [
    "k = metadata[['Sample','Gender']].merge(samples, how ='inner', on='Sample')\n",
    "k.head(2)"
   ]
  },
  {
   "cell_type": "markdown",
   "metadata": {},
   "source": [
    "*   Test Dataset"
   ],
   "execution_count": null,
   "outputs": []
  },
  {
   "cell_type": "code",
   "execution_count": null,
   "metadata": {},
   "outputs": [],
   "source": [
    "g1.describe\n",
    "print('g2: mean=%.3f stdv=%.3f' % (mean(g2), std(g2)))"
   ]
  },
  {
   "cell_type": "code",
   "execution_count": null,
   "metadata": {},
   "outputs": [],
   "source": [
    "\n",
    "female = k[k['Gender'] == 'Female'] #Gender Groups\n",
    "g1 = female.drop(columns=['Gender', 'Sample']).T\n",
    "male = k[k['Gender'] == 'Male']\n",
    "g2 = male.drop(columns=['Gender','Sample']).T\n",
    "k.head(1)"
   ]
  },
  {
   "cell_type": "code",
   "execution_count": null,
   "metadata": {},
   "outputs": [],
   "source": [
    "g2.head(1)"
   ]
  },
  {
   "cell_type": "markdown",
   "metadata": {},
   "source": [
    "*   Kruskal-Wallis hypothesis test"
   ],
   "execution_count": null,
   "outputs": []
  },
  {
   "cell_type": "code",
   "execution_count": null,
   "metadata": {},
   "outputs": [],
   "source": [
    "pg.kruskal(data=p1, dv='9.0' ,between='Gender')"
   ]
  },
  {
   "cell_type": "code",
   "execution_count": null,
   "metadata": {},
   "outputs": [],
   "source": [
    "kruskal_values = []\n",
    "p_value = []"
   ]
  },
  {
   "cell_type": "code",
   "execution_count": null,
   "metadata": {},
   "outputs": [],
   "source": [
    "stats.kruskal(p1)"
   ]
  },
  {
   "cell_type": "code",
   "execution_count": null,
   "metadata": {},
   "outputs": [],
   "source": [
    "kruskal, pvalue = stats.kruskal(g1, g2)\n"
   ]
  },
  {
   "cell_type": "code",
   "execution_count": null,
   "metadata": {},
   "outputs": [],
   "source": [
    "kruskal_values.append(kruskal)\n",
    "p_value.append(pvalue)"
   ]
  },
  {
   "cell_type": "code",
   "execution_count": null,
   "metadata": {},
   "outputs": [],
   "source": [
    "kruskal_values = np.array(kruskal_values)\n",
    "plot.plot(kruskal_values, 'g')\n",
    "plot.plot(p_value, 'y')"
   ]
  },
  {
   "cell_type": "code",
   "execution_count": null,
   "metadata": {},
   "outputs": [],
   "source": [
    "plot.subplot(2, 1, 2)\n",
    "plot.plot(kruskal_values, 'g')\n",
    "plot.plot(p_value, 'y')"
   ]
  },
  {
   "cell_type": "code",
   "execution_count": null,
   "metadata": {},
   "outputs": [],
   "source": [
    "peaks, _ = find_peaks(kruskal_values, height=0, prominence=10)\n",
    "plot.plot(peaks, kruskal_values[peaks], \"x\")\n",
    "plot.show()\n",
    "\n",
    "plot.figure(2)"
   ]
  },
  {
   "cell_type": "code",
   "execution_count": null,
   "metadata": {},
   "outputs": [],
   "source": [
    "axisg1 = np.zeros(len(g1))\n",
    "axisg2 = np.ones(len(g2))"
   ]
  },
  {
   "cell_type": "code",
   "execution_count": null,
   "metadata": {},
   "outputs": [],
   "source": [
    "plot.plot(axisg1, g1, 'ob')\n",
    "plot.plot(axisg2, g2, 'or')\n",
    "plot.show()\n"
   ]
  },
  {
   "cell_type": "code",
   "execution_count": null,
   "metadata": {},
   "outputs": [],
   "source": []
  },
  {
   "cell_type": "code",
   "execution_count": null,
   "metadata": {},
   "outputs": [],
   "source": []
  },
  {
   "cell_type": "code",
   "execution_count": null,
   "metadata": {},
   "outputs": [],
   "source": []
  },
  {
   "cell_type": "code",
   "execution_count": null,
   "metadata": {},
   "outputs": [],
   "source": [
    "# Importing the required libraries\n",
    "import pandas as pd"
   ]
  },
  {
   "cell_type": "code",
   "execution_count": null,
   "metadata": {},
   "outputs": [],
   "source": [
    "# Two different methods of conducting a t-test\n",
    "import researchpy as rp\n",
    "from scipy import stats"
   ]
  },
  {
   "cell_type": "code",
   "execution_count": null,
   "metadata": {},
   "outputs": [],
   "source": [
    "df = pd.read_csv(\"https://raw.githubusercontent.com/Opensourcefordatascience/Data-sets/master//Iris_Data.csv\")\n",
    "df.head()"
   ]
  },
  {
   "cell_type": "code",
   "execution_count": null,
   "metadata": {},
   "outputs": [],
   "source": [
    "setosa = df[(df['species'] == 'Iris-setosa')]\n",
    "setosa.reset_index(inplace= True)\n",
    "setosa.head()"
   ]
  },
  {
   "cell_type": "code",
   "execution_count": null,
   "metadata": {},
   "outputs": [],
   "source": [
    "versicolor = df[(df['species'] == 'Iris-versicolor')]\n",
    "versicolor.reset_index(inplace= True)"
   ]
  },
  {
   "cell_type": "code",
   "execution_count": null,
   "metadata": {},
   "outputs": [],
   "source": [
    "stats.levene(setosa['sepal_width'], versicolor['sepal_width'])"
   ]
  },
  {
   "cell_type": "code",
   "execution_count": null,
   "metadata": {},
   "outputs": [],
   "source": [
    "diff = setosa['sepal_width'] - versicolor['sepal_width']"
   ]
  },
  {
   "cell_type": "code",
   "execution_count": null,
   "metadata": {},
   "outputs": [],
   "source": [
    "from scipy import stats\n",
    "import matplotlib.pyplot as plt\n",
    "\n",
    "stats.probplot(diff, plot= plt)\n",
    "plt.title('Sepal Width P-P Plot') \n",
    "plt.show()"
   ]
  },
  {
   "cell_type": "code",
   "execution_count": null,
   "metadata": {},
   "outputs": [],
   "source": [
    "diff.plot(kind= \"hist\", title= \"Sepal Width Residuals\")\n",
    "plt.xlabel(\"Length (cm)\")\n",
    "plt.show()"
   ]
  },
  {
   "cell_type": "code",
   "execution_count": null,
   "metadata": {},
   "outputs": [],
   "source": [
    "stats.shapiro(diff)"
   ]
  },
  {
   "cell_type": "code",
   "execution_count": null,
   "metadata": {},
   "outputs": [],
   "source": [
    "descriptives, results = rp.ttest(setosa['sepal_width'], versicolor['sepal_width'])\n",
    "\n",
    "descriptives"
   ]
  },
  {
   "cell_type": "code",
   "execution_count": null,
   "metadata": {},
   "outputs": [],
   "source": [
    "results"
   ]
  },
  {
   "cell_type": "code",
   "execution_count": null,
   "metadata": {},
   "outputs": [],
   "source": []
  },
  {
   "cell_type": "code",
   "execution_count": null,
   "metadata": {},
   "outputs": [],
   "source": []
  },
  {
   "cell_type": "code",
   "execution_count": null,
   "metadata": {},
   "outputs": [],
   "source": [
    "from pingouin import kruskal, read_dataset\n",
    "df = read_dataset('anova')\n",
    "kruskal(data=df, dv='Pain threshold', between='Hair color')"
   ]
  },
  {
   "cell_type": "code",
   "execution_count": null,
   "metadata": {},
   "outputs": [],
   "source": []
  },
  {
   "cell_type": "code",
   "execution_count": null,
   "metadata": {},
   "outputs": [],
   "source": []
  }
 ]
}