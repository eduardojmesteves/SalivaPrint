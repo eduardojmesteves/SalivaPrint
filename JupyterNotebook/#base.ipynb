{
 "nbformat": 4,
 "nbformat_minor": 2,
 "metadata": {
  "language_info": {
   "name": "python",
   "codemirror_mode": {
    "name": "ipython",
    "version": 3
   }
  },
  "orig_nbformat": 2,
  "file_extension": ".py",
  "mimetype": "text/x-python",
  "name": "python",
  "npconvert_exporter": "python",
  "pygments_lexer": "ipython3",
  "version": 3
 },
 "cells": [
  {
   "cell_type": "code",
   "execution_count": null,
   "metadata": {},
   "outputs": [],
   "source": [
    "import os, csv, re, glob, math, collections, sys, codecs\n",
    "import xml.etree.ElementTree as ET\n",
    "from matplotlib import pylab as plt\n",
    "import matplotlib.pyplot as plot\n",
    "import pandas as pd\n",
    "from io import BytesIO\n",
    "import numpy as np\n",
    "import pandas as pd\n",
    "from scipy import signal\n",
    "from scipy.signal import find_peaks\n",
    "from scipy import stats\n",
    "from colorama import *"
   ]
  },
  {
   "cell_type": "code",
   "execution_count": null,
   "metadata": {},
   "outputs": [],
   "source": [
    "print(Fore.BLUE + '####################################\\n# Welcome to the SalivaPrint tool. #\\n#----------------------------------#\\n#        Type [y] to start.        #\\n####################################')\n",
    "choice=''\n",
    "choice = input()\n",
    "if choice=='y':\n",
    "    print(Fore.RED + '-> Data Extraction from XML file.<-\\n')\n",
    "else:\n",
    "    sys.exit(Fore.RED + 'Stop')\n",
    "#-Next step is add a condition to input the Sample ID and confirm if is the of XML file to continue-#"
   ]
  },
  {
   "cell_type": "code",
   "execution_count": null,
   "metadata": {},
   "outputs": [],
   "source": [
    "# Script1\n",
    "# Createa csv data from xml source\n",
    "full_xml_path = os.path.abspath(os.path.join(\".\", \"test.xml\"))\n",
    "full_csv_path = os.path.abspath(os.path.join(\".\", \"Samples.csv\"))\n",
    "\n",
    "\n",
    "tree = ET.parse(full_xml_path)\n",
    "root = tree.getroot()\n",
    "\n",
    "file_header = ['Sample']\n",
    "file_header_vals = []\n",
    "sample_well_info = []\n"
   ]
  },
  {
   "cell_type": "code",
   "execution_count": null,
   "metadata": {},
   "outputs": [],
   "source": [
    "# Set File Header\n",
    "for i in range(466, 869):\n",
    "    file_header.append(str(round((0.00042006 * (i * i) - 0.28216 * i + 49.225), 1)))\n",
    "    file_header_vals.append(str(round((0.00042006 * (i * i) - 0.28216 * i + 49.225), 1)))"
   ]
  },
  {
   "cell_type": "code",
   "execution_count": null,
   "metadata": {},
   "outputs": [],
   "source": [
    "# get all well id's and sample names from file\n",
    "for sample in root.findall('Results'):\n",
    "    # write sample name\n",
    "    well_id = sample.find('WellId').text\n",
    "\n",
    "    if well_id != '0':\n",
    "        sample_name = sample.find('SampleName').text\n",
    "        sample_well_info.append({'Sample': sample_name, 'well_id': well_id})"
   ]
  },
  {
   "cell_type": "code",
   "execution_count": null,
   "metadata": {},
   "outputs": [],
   "source": [
    "# create file with headers and data\n",
    "with open(full_csv_path, 'w', newline='') as outcsv:\n",
    "    writer = csv.DictWriter(outcsv, fieldnames = file_header)\n",
    "    writer.writeheader()\n",
    "    xmlstr = ET.tostring(root, encoding='utf8', method='xml').decode(\"utf-8\")\n",
    "\n",
    "    for elem in sample_well_info:\n",
    "        \n",
    "        idx = 0\n",
    "        row = {'Sample': elem['Sample']}\n",
    "        regex = '<RawDataPoints><WellId>%s<\\/WellId><Signal>(.*?)<\\/Signal><\\/RawDataPoints>'% elem['well_id']\n",
    "        raw_data_points = re.findall(regex, xmlstr)\n",
    "        \n",
    "        # write data for each column\n",
    "        for count, raw_data_point in enumerate(raw_data_points, start=0):\n",
    "            if 869 >= count >= 467:\n",
    "                row[file_header_vals[idx]] = raw_data_point\n",
    "                idx+=1\n",
    "            \n",
    "            if count > 869:\n",
    "                break\n",
    "        \n",
    "        writer.writerow(row)"
   ]
  },
  {
   "cell_type": "code",
   "execution_count": null,
   "metadata": {},
   "outputs": [],
   "source": [
    "df = pd.read_csv('Samples.csv', index_col='Sample')\n",
    "df.head(2)\n",
    "\n",
    "df2 = df.T\n",
    "df2.to_csv('output.csv')\n",
    "df2.head(2)\n",
    "\n",
    "ax = df2.plot()\n",
    "ax.set_xlabel('Molecular Weight (kDa)')\n",
    "ax.set_ylabel('Fluorescence')"
   ]
  },
  {
   "cell_type": "code",
   "execution_count": null,
   "metadata": {},
   "outputs": [],
   "source": [
    "#Do you want to plot\n",
    "print(Fore.GREEN + '#########################################\\n#    Do you want to plot the profile?   #\\n#---------------------------------------#\\n#  Type [y] to plot or [n] to continue. #\\n#########################################')\n",
    "choice = ''\n",
    "choice = input()\n",
    "if choice == 'y':\n",
    "    print(Fore.RED + 'Line Graph Plot.')\n",
    "    plt.show()\n",
    "elif choice == 'n':\n",
    "    print(Fore.BLUE + 'Continue the profile analysis.')\n",
    "else:\n",
    "    sys.exit('Stop')\n"
   ]
  }
 ]
}